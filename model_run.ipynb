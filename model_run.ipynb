{
 "cells": [
  {
   "cell_type": "markdown",
   "metadata": {},
   "source": [
    "# Part 3: Reporting \n",
    "\n",
    "## Selected Model \n",
    "\n",
    "The following code runs the selected model on the data provided for the challenge. The code only includes the final model and does not reflect the exploratory data analysis and model selection steps that were undertaken to select the best model. Exploratory data analysis and model selection can be found in the analysis.ipynb and model_selection.ipnyb files in the GitHub repository https://github.com/akhullar001/triad-challenge."
   ]
  },
  {
   "cell_type": "code",
   "execution_count": 1,
   "metadata": {},
   "outputs": [
    {
     "name": "stderr",
     "output_type": "stream",
     "text": [
      "Using TensorFlow backend.\n"
     ]
    }
   ],
   "source": [
    "## Import packages\n",
    "\n",
    "# Data analysis and wrangling\n",
    "import pandas as pd  \n",
    "import numpy as np \n",
    "from matplotlib import pyplot as plt\n",
    "import warnings\n",
    "\n",
    "# Model creation and evaluation\n",
    "from sklearn.ensemble import RandomForestClassifier\n",
    "from sklearn.model_selection import train_test_split\n",
    "from sklearn.impute import KNNImputer\n",
    "from sklearn.metrics import plot_confusion_matrix\n",
    "from sklearn import preprocessing\n",
    "from imblearn.over_sampling import SMOTE\n",
    "\n",
    "warnings.filterwarnings('ignore')\n",
    "%matplotlib inline"
   ]
  },
  {
   "cell_type": "code",
   "execution_count": 2,
   "metadata": {},
   "outputs": [],
   "source": [
    "# Load data\n",
    "url = 'https://raw.githubusercontent.com/akhullar001/triad-challenge/master/input/test_data.tsv'\n",
    "student_data = pd.read_csv(url, sep='\\t')"
   ]
  },
  {
   "cell_type": "markdown",
   "metadata": {},
   "source": [
    "## Data Cleaning\n",
    "\n",
    "Age, sex, dojo_class and hours_studied were shown to be related to whether a student passes the test. Since 40% of the observations were missing values for hours_studied, the values were imputed using k-nearest neighbors (KNN) algorithm. Pass was excluded from the KNN imputation to avoid target leakage."
   ]
  },
  {
   "cell_type": "code",
   "execution_count": 3,
   "metadata": {},
   "outputs": [],
   "source": [
    "# Map categorical and binary variables to integers\n",
    "student_data = student_data.drop(['first', 'last', 'notes'], axis=1)\n",
    "student_data['sex'] = student_data['sex'].map({'Male': 1, 'Female': 0})\n",
    "student_data[['dojo_class', 'test_prep', 'pass']] = student_data[['dojo_class', 'test_prep', 'pass']].astype(int)\n",
    "\n",
    "# Standardize continuous variables\n",
    "student_data[['age', 'hours_studied']] = preprocessing.scale(student_data[['age', 'hours_studied']])\n",
    "\n",
    "# Impute missing hours_studied values\n",
    "data_to_impute = student_data.drop('pass', axis=1)\n",
    "data_to_impute = pd.get_dummies(data_to_impute)\n",
    "\n",
    "knn_imputer = KNNImputer(n_neighbors=5)\n",
    "knn_imputed = knn_imputer.fit_transform(data_to_impute)\n",
    "knn_imputed = pd.DataFrame(knn_imputed)\n",
    "knn_imputed.columns = data_to_impute.columns\n",
    "\n",
    "student_data['hours_studied'] = knn_imputed['hours_studied']\n",
    "\n",
    "# Drop uneccessary variables\n",
    "student_data = student_data.drop(['country', 'lang', 'test_prep'], axis=1)"
   ]
  },
  {
   "cell_type": "markdown",
   "metadata": {},
   "source": [
    "## Model \n",
    "\n",
    "After the data was cleaned, it was split into training and test sets. Since there is a class imbalance with significantly more students passing the test than failing the test, the SMOTE algorithm was used to create synthetic observations for the minority class. A random forest model was then fit to the training set and the test set was used to assess the accuracy of the model. "
   ]
  },
  {
   "cell_type": "code",
   "execution_count": 4,
   "metadata": {},
   "outputs": [
    {
     "name": "stdout",
     "output_type": "stream",
     "text": [
      "The accuracy of the random forest model is 90.7%\n"
     ]
    },
    {
     "data": {
      "image/png": "[encoded data removed]",
      "text/plain": [
       "<Figure size 432x288 with 2 Axes>"
      ]
     },
     "metadata": {
      "needs_background": "light"
     },
     "output_type": "display_data"
    }
   ],
   "source": [
    "# Split predictors and target\n",
    "X = student_data.drop('pass', axis=1)\n",
    "y = student_data['pass']\n",
    "\n",
    "# Create training and test sets\n",
    "X_train, X_test, y_train, y_test = train_test_split(X, y, test_size=0.2, random_state=23)\n",
    "\n",
    "# Run SMOTE algorithm on training set\n",
    "sampler = SMOTE(random_state=2)\n",
    "X_train_smote, y_train_smote = sampler.fit_sample(X, y)\n",
    "\n",
    "# Initialize and fit random forest model\n",
    "rf = RandomForestClassifier(random_state=2)\n",
    "rf.fit(X_train_smote, y_train_smote)\n",
    "\n",
    "# Assess accuracy of model on test set\n",
    "accuracy = rf.score(X_test, y_test)\n",
    "print('The accuracy of the random forest model is {:.1%}'.format(accuracy))\n",
    "\n",
    "plot_confusion_matrix(rf, X_test, y_test, normalize='true', display_labels=['Fail', 'Pass'], cmap=plt.cm.Greens, values_format='.0%')\n",
    "plt.title('Classification Results')\n",
    "plt.show()"
   ]
  }
 ],
 "metadata": {
  "kernelspec": {
   "display_name": "Python 3",
   "language": "python",
   "name": "python3"
  },
  "language_info": {
   "codemirror_mode": {
    "name": "ipython",
    "version": 3
   },
   "file_extension": ".py",
   "mimetype": "text/x-python",
   "name": "python",
   "nbconvert_exporter": "python",
   "pygments_lexer": "ipython3",
   "version": "3.7.4"
  }
 },
 "nbformat": 4,
 "nbformat_minor": 4
}
