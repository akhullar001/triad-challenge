{
 "cells": [
  {
   "cell_type": "markdown",
   "metadata": {},
   "source": [
    "# Part I: Analysis"
   ]
  },
  {
   "cell_type": "code",
   "execution_count": 1,
   "metadata": {},
   "outputs": [],
   "source": [
    "# Data analysis and wrangling\n",
    "import pandas as pd  \n",
    "import numpy as np \n",
    "from scipy.stats import chi2_contingency, pearsonr, ttest_ind\n",
    "from itertools import combinations\n",
    "import statsmodels.api as sm\n",
    "\n",
    "# Data visualization\n",
    "import matplotlib.pyplot as plt\n",
    "from matplotlib.ticker import PercentFormatter\n",
    "import matplotlib \n",
    "import seaborn as sns\n",
    "%matplotlib inline\n",
    "\n",
    "import warnings\n",
    "warnings.filterwarnings('ignore')"
   ]
  },
  {
   "cell_type": "code",
   "execution_count": 2,
   "metadata": {},
   "outputs": [],
   "source": [
    "# Load data\n",
    "url = 'https://raw.githubusercontent.com/akhullar001/triad-challenge/master/input/test_data.tsv'\n",
    "student_data = pd.read_csv(url, sep='\\t')"
   ]
  },
  {
   "cell_type": "markdown",
   "metadata": {},
   "source": [
    "The dataset contains 11 features and 5,000 observations. The 11 features include 3 categorical features (sex, language, country), 2 continuous features (age, hours_studied) and 3 binary features (dojo_class, test_prep, pass). Three additional features include first name, last name and notes. The name of a student should not affect whether they pass the test and the notes column is mostly blank with random information for some entries."
   ]
  },
  {
   "cell_type": "code",
   "execution_count": 3,
   "metadata": {},
   "outputs": [
    {
     "name": "stdout",
     "output_type": "stream",
     "text": [
      "<class 'pandas.core.frame.DataFrame'>\n",
      "RangeIndex: 5000 entries, 0 to 4999\n",
      "Data columns (total 11 columns):\n",
      "sex              5000 non-null object\n",
      "lang             5000 non-null object\n",
      "country          5000 non-null object\n",
      "age              5000 non-null int64\n",
      "first            5000 non-null object\n",
      "last             5000 non-null object\n",
      "hours_studied    2990 non-null float64\n",
      "dojo_class       5000 non-null bool\n",
      "test_prep        5000 non-null bool\n",
      "pass             5000 non-null bool\n",
      "notes            823 non-null object\n",
      "dtypes: bool(3), float64(1), int64(1), object(6)\n",
      "memory usage: 327.3+ KB\n"
     ]
    }
   ],
   "source": [
    "student_data.info()"
   ]
  },
  {
   "cell_type": "code",
   "execution_count": 4,
   "metadata": {},
   "outputs": [
    {
     "data": {
      "text/html": [
       "<div>\n",
       "<style scoped>\n",
       "    .dataframe tbody tr th:only-of-type {\n",
       "        vertical-align: middle;\n",
       "    }\n",
       "\n",
       "    .dataframe tbody tr th {\n",
       "        vertical-align: top;\n",
       "    }\n",
       "\n",
       "    .dataframe thead th {\n",
       "        text-align: right;\n",
       "    }\n",
       "</style>\n",
       "<table border=\"1\" class=\"dataframe\">\n",
       "  <thead>\n",
       "    <tr style=\"text-align: right;\">\n",
       "      <th></th>\n",
       "      <th>age</th>\n",
       "      <th>hours_studied</th>\n",
       "    </tr>\n",
       "  </thead>\n",
       "  <tbody>\n",
       "    <tr>\n",
       "      <td>count</td>\n",
       "      <td>5000.000000</td>\n",
       "      <td>2990.000000</td>\n",
       "    </tr>\n",
       "    <tr>\n",
       "      <td>mean</td>\n",
       "      <td>25.929400</td>\n",
       "      <td>5.019735</td>\n",
       "    </tr>\n",
       "    <tr>\n",
       "      <td>std</td>\n",
       "      <td>7.304265</td>\n",
       "      <td>3.236989</td>\n",
       "    </tr>\n",
       "    <tr>\n",
       "      <td>min</td>\n",
       "      <td>18.000000</td>\n",
       "      <td>0.054288</td>\n",
       "    </tr>\n",
       "    <tr>\n",
       "      <td>25%</td>\n",
       "      <td>20.000000</td>\n",
       "      <td>2.619695</td>\n",
       "    </tr>\n",
       "    <tr>\n",
       "      <td>50%</td>\n",
       "      <td>24.000000</td>\n",
       "      <td>4.382517</td>\n",
       "    </tr>\n",
       "    <tr>\n",
       "      <td>75%</td>\n",
       "      <td>30.000000</td>\n",
       "      <td>6.609386</td>\n",
       "    </tr>\n",
       "    <tr>\n",
       "      <td>max</td>\n",
       "      <td>50.000000</td>\n",
       "      <td>28.825974</td>\n",
       "    </tr>\n",
       "  </tbody>\n",
       "</table>\n",
       "</div>"
      ],
      "text/plain": [
       "               age  hours_studied\n",
       "count  5000.000000    2990.000000\n",
       "mean     25.929400       5.019735\n",
       "std       7.304265       3.236989\n",
       "min      18.000000       0.054288\n",
       "25%      20.000000       2.619695\n",
       "50%      24.000000       4.382517\n",
       "75%      30.000000       6.609386\n",
       "max      50.000000      28.825974"
      ]
     },
     "execution_count": 4,
     "metadata": {},
     "output_type": "execute_result"
    }
   ],
   "source": [
    "student_data.describe()"
   ]
  },
  {
   "cell_type": "code",
   "execution_count": 5,
   "metadata": {},
   "outputs": [
    {
     "data": {
      "text/html": [
       "<div>\n",
       "<style scoped>\n",
       "    .dataframe tbody tr th:only-of-type {\n",
       "        vertical-align: middle;\n",
       "    }\n",
       "\n",
       "    .dataframe tbody tr th {\n",
       "        vertical-align: top;\n",
       "    }\n",
       "\n",
       "    .dataframe thead th {\n",
       "        text-align: right;\n",
       "    }\n",
       "</style>\n",
       "<table border=\"1\" class=\"dataframe\">\n",
       "  <thead>\n",
       "    <tr style=\"text-align: right;\">\n",
       "      <th></th>\n",
       "      <th>sex</th>\n",
       "      <th>lang</th>\n",
       "      <th>country</th>\n",
       "      <th>first</th>\n",
       "      <th>last</th>\n",
       "      <th>notes</th>\n",
       "    </tr>\n",
       "  </thead>\n",
       "  <tbody>\n",
       "    <tr>\n",
       "      <td>count</td>\n",
       "      <td>5000</td>\n",
       "      <td>5000</td>\n",
       "      <td>5000</td>\n",
       "      <td>5000</td>\n",
       "      <td>5000</td>\n",
       "      <td>823</td>\n",
       "    </tr>\n",
       "    <tr>\n",
       "      <td>unique</td>\n",
       "      <td>2</td>\n",
       "      <td>6</td>\n",
       "      <td>10</td>\n",
       "      <td>1193</td>\n",
       "      <td>914</td>\n",
       "      <td>397</td>\n",
       "    </tr>\n",
       "    <tr>\n",
       "      <td>top</td>\n",
       "      <td>Male</td>\n",
       "      <td>Japanese</td>\n",
       "      <td>Japan</td>\n",
       "      <td>Shirou</td>\n",
       "      <td>Abe</td>\n",
       "      <td>œ∑´®†¥¨ˆøπ“‘</td>\n",
       "    </tr>\n",
       "    <tr>\n",
       "      <td>freq</td>\n",
       "      <td>3739</td>\n",
       "      <td>3997</td>\n",
       "      <td>3997</td>\n",
       "      <td>27</td>\n",
       "      <td>86</td>\n",
       "      <td>6</td>\n",
       "    </tr>\n",
       "  </tbody>\n",
       "</table>\n",
       "</div>"
      ],
      "text/plain": [
       "         sex      lang country   first  last         notes\n",
       "count   5000      5000    5000    5000  5000           823\n",
       "unique     2         6      10    1193   914           397\n",
       "top     Male  Japanese   Japan  Shirou   Abe  œ∑´®†¥¨ˆøπ“‘\n",
       "freq    3739      3997    3997      27    86             6"
      ]
     },
     "execution_count": 5,
     "metadata": {},
     "output_type": "execute_result"
    }
   ],
   "source": [
    "student_data.describe(include='O')"
   ]
  },
  {
   "cell_type": "code",
   "execution_count": 6,
   "metadata": {},
   "outputs": [
    {
     "data": {
      "text/plain": [
       "4956    <a href=\"\\x0Bjavascript:javascript:alert(1)\" i...\n",
       "4957                                                    _\n",
       "4963                                              𠜎𠜱𠝹𠱓𠱸𠲖𠳏\n",
       "4977         <img\\x13src=x onerror=\"javascript:alert(1)\">\n",
       "4997    `\"'><img src=xxx:x \\x09onerror=javascript:aler...\n",
       "Name: notes, dtype: object"
      ]
     },
     "execution_count": 6,
     "metadata": {},
     "output_type": "execute_result"
    }
   ],
   "source": [
    "student_data['notes'][student_data['notes'].notnull()].tail()"
   ]
  },
  {
   "cell_type": "markdown",
   "metadata": {},
   "source": [
    "## Demographic Relationships"
   ]
  },
  {
   "cell_type": "markdown",
   "metadata": {},
   "source": [
    "The demographic details that could be used to explain which students are most likely to pass the test include sex, language, country, and age. After transforming binary features into integers (i.e., 0 for false, 1 for true) and the categorical variables into dummy variables, I examined the Pearson correlation between the demographic features and whether a student passed the test. The feature with the highest correlation was sex, followed by age and Mexico. However, all of the correlations were very low, indicating that there is not a strong relationship between any of the demographic features and whether a student passed the test. Further, based on the p-values for the correlation coefficients, only the correlation between pass and sex and pass and age were deemed statistically significant at a confidence level of 95%. "
   ]
  },
  {
   "cell_type": "code",
   "execution_count": 7,
   "metadata": {},
   "outputs": [],
   "source": [
    "# Map categorical and boolean features to integers\n",
    "student_data['sex'] = student_data['sex'].map({'Male': 1, 'Female': 0})\n",
    "student_data_dummies = pd.get_dummies(student_data[['age', 'country', 'lang', 'sex', 'pass']], prefix='', prefix_sep='')"
   ]
  },
  {
   "cell_type": "code",
   "execution_count": 8,
   "metadata": {},
   "outputs": [
    {
     "data": {
      "text/html": [
       "<div>\n",
       "<style scoped>\n",
       "    .dataframe tbody tr th:only-of-type {\n",
       "        vertical-align: middle;\n",
       "    }\n",
       "\n",
       "    .dataframe tbody tr th {\n",
       "        vertical-align: top;\n",
       "    }\n",
       "\n",
       "    .dataframe thead th {\n",
       "        text-align: right;\n",
       "    }\n",
       "</style>\n",
       "<table border=\"1\" class=\"dataframe\">\n",
       "  <thead>\n",
       "    <tr style=\"text-align: right;\">\n",
       "      <th></th>\n",
       "      <th>corr</th>\n",
       "      <th>p-val</th>\n",
       "      <th>feature</th>\n",
       "    </tr>\n",
       "  </thead>\n",
       "  <tbody>\n",
       "    <tr>\n",
       "      <td>1</td>\n",
       "      <td>0.187331</td>\n",
       "      <td>0.0000</td>\n",
       "      <td>sex</td>\n",
       "    </tr>\n",
       "    <tr>\n",
       "      <td>0</td>\n",
       "      <td>0.059391</td>\n",
       "      <td>0.0000</td>\n",
       "      <td>age</td>\n",
       "    </tr>\n",
       "    <tr>\n",
       "      <td>8</td>\n",
       "      <td>0.022446</td>\n",
       "      <td>0.1125</td>\n",
       "      <td>Mexico</td>\n",
       "    </tr>\n",
       "    <tr>\n",
       "      <td>3</td>\n",
       "      <td>0.021674</td>\n",
       "      <td>0.1254</td>\n",
       "      <td>Australia</td>\n",
       "    </tr>\n",
       "    <tr>\n",
       "      <td>4</td>\n",
       "      <td>0.017581</td>\n",
       "      <td>0.2139</td>\n",
       "      <td>Finland</td>\n",
       "    </tr>\n",
       "    <tr>\n",
       "      <td>14</td>\n",
       "      <td>0.017581</td>\n",
       "      <td>0.2139</td>\n",
       "      <td>Finnish</td>\n",
       "    </tr>\n",
       "    <tr>\n",
       "      <td>13</td>\n",
       "      <td>0.014263</td>\n",
       "      <td>0.3133</td>\n",
       "      <td>English</td>\n",
       "    </tr>\n",
       "    <tr>\n",
       "      <td>18</td>\n",
       "      <td>0.006092</td>\n",
       "      <td>0.6667</td>\n",
       "      <td>Spanish</td>\n",
       "    </tr>\n",
       "    <tr>\n",
       "      <td>12</td>\n",
       "      <td>0.005070</td>\n",
       "      <td>0.7200</td>\n",
       "      <td>USA</td>\n",
       "    </tr>\n",
       "    <tr>\n",
       "      <td>9</td>\n",
       "      <td>0.002653</td>\n",
       "      <td>0.8512</td>\n",
       "      <td>New Zealand</td>\n",
       "    </tr>\n",
       "    <tr>\n",
       "      <td>7</td>\n",
       "      <td>-0.000070</td>\n",
       "      <td>0.9960</td>\n",
       "      <td>Japan</td>\n",
       "    </tr>\n",
       "    <tr>\n",
       "      <td>17</td>\n",
       "      <td>-0.000070</td>\n",
       "      <td>0.9960</td>\n",
       "      <td>Japanese</td>\n",
       "    </tr>\n",
       "    <tr>\n",
       "      <td>11</td>\n",
       "      <td>-0.002479</td>\n",
       "      <td>0.8609</td>\n",
       "      <td>UK</td>\n",
       "    </tr>\n",
       "    <tr>\n",
       "      <td>5</td>\n",
       "      <td>-0.008986</td>\n",
       "      <td>0.5253</td>\n",
       "      <td>France</td>\n",
       "    </tr>\n",
       "    <tr>\n",
       "      <td>15</td>\n",
       "      <td>-0.008986</td>\n",
       "      <td>0.5253</td>\n",
       "      <td>French</td>\n",
       "    </tr>\n",
       "    <tr>\n",
       "      <td>10</td>\n",
       "      <td>-0.012994</td>\n",
       "      <td>0.3583</td>\n",
       "      <td>Spain</td>\n",
       "    </tr>\n",
       "    <tr>\n",
       "      <td>6</td>\n",
       "      <td>-0.027904</td>\n",
       "      <td>0.0485</td>\n",
       "      <td>Italy</td>\n",
       "    </tr>\n",
       "    <tr>\n",
       "      <td>16</td>\n",
       "      <td>-0.027904</td>\n",
       "      <td>0.0485</td>\n",
       "      <td>Italian</td>\n",
       "    </tr>\n",
       "  </tbody>\n",
       "</table>\n",
       "</div>"
      ],
      "text/plain": [
       "        corr   p-val      feature\n",
       "1   0.187331  0.0000          sex\n",
       "0   0.059391  0.0000          age\n",
       "8   0.022446  0.1125       Mexico\n",
       "3   0.021674  0.1254    Australia\n",
       "4   0.017581  0.2139      Finland\n",
       "14  0.017581  0.2139      Finnish\n",
       "13  0.014263  0.3133      English\n",
       "18  0.006092  0.6667      Spanish\n",
       "12  0.005070  0.7200          USA\n",
       "9   0.002653  0.8512  New Zealand\n",
       "7  -0.000070  0.9960        Japan\n",
       "17 -0.000070  0.9960     Japanese\n",
       "11 -0.002479  0.8609           UK\n",
       "5  -0.008986  0.5253       France\n",
       "15 -0.008986  0.5253       French\n",
       "10 -0.012994  0.3583        Spain\n",
       "6  -0.027904  0.0485        Italy\n",
       "16 -0.027904  0.0485      Italian"
      ]
     },
     "execution_count": 8,
     "metadata": {},
     "output_type": "execute_result"
    }
   ],
   "source": [
    "# Calculate correlation between features and pass \n",
    "features = student_data_dummies.columns\n",
    "corr = [pearsonr(student_data_dummies[feature], student_data_dummies['pass']) for feature in features]\n",
    "corr = pd.DataFrame(corr).rename(columns=({0: 'corr', 1: 'p-val'}))\n",
    "corr['feature'] = features\n",
    "corr['p-val'] = round(corr['p-val'], 4)\n",
    "corr = corr.sort_values(by='corr', ascending=False).loc[1:,]\n",
    "corr"
   ]
  },
  {
   "cell_type": "code",
   "execution_count": 9,
   "metadata": {},
   "outputs": [
    {
     "data": {
      "image/png": "[encoded data removed]",
      "text/plain": [
       "<Figure size 432x288 with 1 Axes>"
      ]
     },
     "metadata": {
      "needs_background": "light"
     },
     "output_type": "display_data"
    }
   ],
   "source": [
    "ax = sns.barplot(x='corr', y='feature', data=corr)\n",
    "ax.set(xlabel='Correlation', ylabel='', title='Correlation between Demographic Features and Pass')\n",
    "plt.show()"
   ]
  },
  {
   "cell_type": "markdown",
   "metadata": {},
   "source": [
    "### Sex"
   ]
  },
  {
   "cell_type": "markdown",
   "metadata": {},
   "source": [
    "Males constitute approximately 75% of the dataset. When calculating the correlation between `sex` and `pass`, males were coded as 1 and females were coded as 0. Therefore, the positive correlation between sex and pass indicates that males are more likely to pass the test than females. Indeed, examing the pass rate by sex shows that a higher percentage of males (82.5%) pass the test than females (64.7%). \n",
    "\n",
    "In order to ensure that the difference in pass rates between males and females is statistically significant, a chi-square test of independence was performed. The chi-square statistic was 174.42 with a p-value of 7.99e-40. Based on the p-value, the difference in pass rates is statistically significant at a 95% confidence level."
   ]
  },
  {
   "cell_type": "code",
   "execution_count": 10,
   "metadata": {},
   "outputs": [
    {
     "data": {
      "text/html": [
       "<div>\n",
       "<style scoped>\n",
       "    .dataframe tbody tr th:only-of-type {\n",
       "        vertical-align: middle;\n",
       "    }\n",
       "\n",
       "    .dataframe tbody tr th {\n",
       "        vertical-align: top;\n",
       "    }\n",
       "\n",
       "    .dataframe thead th {\n",
       "        text-align: right;\n",
       "    }\n",
       "</style>\n",
       "<table border=\"1\" class=\"dataframe\">\n",
       "  <thead>\n",
       "    <tr style=\"text-align: right;\">\n",
       "      <th></th>\n",
       "      <th>Sex</th>\n",
       "      <th>Percent</th>\n",
       "    </tr>\n",
       "  </thead>\n",
       "  <tbody>\n",
       "    <tr>\n",
       "      <td>0</td>\n",
       "      <td>1</td>\n",
       "      <td>0.7478</td>\n",
       "    </tr>\n",
       "    <tr>\n",
       "      <td>1</td>\n",
       "      <td>0</td>\n",
       "      <td>0.2522</td>\n",
       "    </tr>\n",
       "  </tbody>\n",
       "</table>\n",
       "</div>"
      ],
      "text/plain": [
       "   Sex  Percent\n",
       "0    1   0.7478\n",
       "1    0   0.2522"
      ]
     },
     "execution_count": 10,
     "metadata": {},
     "output_type": "execute_result"
    }
   ],
   "source": [
    "# Calculate breakdown of data by sex\n",
    "sex_df = student_data['sex'].value_counts(normalize=True).reset_index().rename(columns={'index': 'Sex', 'sex': 'Percent'})\n",
    "sex_df"
   ]
  },
  {
   "cell_type": "code",
   "execution_count": 11,
   "metadata": {},
   "outputs": [
    {
     "data": {
      "image/png": "[encoded data removed]",
      "text/plain": [
       "<Figure size 432x288 with 1 Axes>"
      ]
     },
     "metadata": {
      "needs_background": "light"
     },
     "output_type": "display_data"
    }
   ],
   "source": [
    "ax = sns.barplot(x='Sex', y='Percent', data=sex_df)\n",
    "ax.set(title='Breakdown by Sex',xticklabels=['Female', 'Male'])\n",
    "ax.yaxis.set_major_formatter(PercentFormatter(1.0))\n",
    "plt.show()"
   ]
  },
  {
   "cell_type": "code",
   "execution_count": 12,
   "metadata": {},
   "outputs": [
    {
     "data": {
      "text/html": [
       "<div>\n",
       "<style scoped>\n",
       "    .dataframe tbody tr th:only-of-type {\n",
       "        vertical-align: middle;\n",
       "    }\n",
       "\n",
       "    .dataframe tbody tr th {\n",
       "        vertical-align: top;\n",
       "    }\n",
       "\n",
       "    .dataframe thead th {\n",
       "        text-align: right;\n",
       "    }\n",
       "</style>\n",
       "<table border=\"1\" class=\"dataframe\">\n",
       "  <thead>\n",
       "    <tr style=\"text-align: right;\">\n",
       "      <th>pass</th>\n",
       "      <th>False</th>\n",
       "      <th>True</th>\n",
       "    </tr>\n",
       "    <tr>\n",
       "      <th>sex</th>\n",
       "      <th></th>\n",
       "      <th></th>\n",
       "    </tr>\n",
       "  </thead>\n",
       "  <tbody>\n",
       "    <tr>\n",
       "      <td>0</td>\n",
       "      <td>0.352895</td>\n",
       "      <td>0.647105</td>\n",
       "    </tr>\n",
       "    <tr>\n",
       "      <td>1</td>\n",
       "      <td>0.174378</td>\n",
       "      <td>0.825622</td>\n",
       "    </tr>\n",
       "  </tbody>\n",
       "</table>\n",
       "</div>"
      ],
      "text/plain": [
       "pass     False     True \n",
       "sex                     \n",
       "0     0.352895  0.647105\n",
       "1     0.174378  0.825622"
      ]
     },
     "execution_count": 12,
     "metadata": {},
     "output_type": "execute_result"
    }
   ],
   "source": [
    "# Calculate breakdown of pass rates by sex\n",
    "pd.crosstab(student_data['sex'], student_data['pass'], normalize='index')"
   ]
  },
  {
   "cell_type": "code",
   "execution_count": 13,
   "metadata": {},
   "outputs": [
    {
     "data": {
      "image/png": "[encoded data removed]",
      "text/plain": [
       "<Figure size 432x288 with 1 Axes>"
      ]
     },
     "metadata": {
      "needs_background": "light"
     },
     "output_type": "display_data"
    }
   ],
   "source": [
    "g = sns.barplot(x='sex', y='pass', data=student_data)\n",
    "g.set(xlabel='Sex', ylabel='Percent Pass', title='Relationship between Sex and Pass Rate', xticklabels=['Female', 'Male'])\n",
    "g.yaxis.set_major_formatter(PercentFormatter(1.0))\n",
    "plt.show()"
   ]
  },
  {
   "cell_type": "markdown",
   "metadata": {},
   "source": [
    "### Country"
   ]
  },
  {
   "cell_type": "markdown",
   "metadata": {},
   "source": [
    "Japan is the most prevalent country in the dataset, followed by Italy and France."
   ]
  },
  {
   "cell_type": "code",
   "execution_count": 14,
   "metadata": {},
   "outputs": [
    {
     "data": {
      "text/html": [
       "<div>\n",
       "<style scoped>\n",
       "    .dataframe tbody tr th:only-of-type {\n",
       "        vertical-align: middle;\n",
       "    }\n",
       "\n",
       "    .dataframe tbody tr th {\n",
       "        vertical-align: top;\n",
       "    }\n",
       "\n",
       "    .dataframe thead th {\n",
       "        text-align: right;\n",
       "    }\n",
       "</style>\n",
       "<table border=\"1\" class=\"dataframe\">\n",
       "  <thead>\n",
       "    <tr style=\"text-align: right;\">\n",
       "      <th></th>\n",
       "      <th>Country</th>\n",
       "      <th>Percent</th>\n",
       "    </tr>\n",
       "  </thead>\n",
       "  <tbody>\n",
       "    <tr>\n",
       "      <td>0</td>\n",
       "      <td>Japan</td>\n",
       "      <td>0.7994</td>\n",
       "    </tr>\n",
       "    <tr>\n",
       "      <td>1</td>\n",
       "      <td>Italy</td>\n",
       "      <td>0.0358</td>\n",
       "    </tr>\n",
       "    <tr>\n",
       "      <td>2</td>\n",
       "      <td>France</td>\n",
       "      <td>0.0308</td>\n",
       "    </tr>\n",
       "    <tr>\n",
       "      <td>3</td>\n",
       "      <td>Australia</td>\n",
       "      <td>0.0256</td>\n",
       "    </tr>\n",
       "    <tr>\n",
       "      <td>4</td>\n",
       "      <td>New Zealand</td>\n",
       "      <td>0.0254</td>\n",
       "    </tr>\n",
       "    <tr>\n",
       "      <td>5</td>\n",
       "      <td>USA</td>\n",
       "      <td>0.0252</td>\n",
       "    </tr>\n",
       "    <tr>\n",
       "      <td>6</td>\n",
       "      <td>UK</td>\n",
       "      <td>0.0230</td>\n",
       "    </tr>\n",
       "    <tr>\n",
       "      <td>7</td>\n",
       "      <td>Spain</td>\n",
       "      <td>0.0144</td>\n",
       "    </tr>\n",
       "    <tr>\n",
       "      <td>8</td>\n",
       "      <td>Mexico</td>\n",
       "      <td>0.0130</td>\n",
       "    </tr>\n",
       "    <tr>\n",
       "      <td>9</td>\n",
       "      <td>Finland</td>\n",
       "      <td>0.0074</td>\n",
       "    </tr>\n",
       "  </tbody>\n",
       "</table>\n",
       "</div>"
      ],
      "text/plain": [
       "       Country  Percent\n",
       "0        Japan   0.7994\n",
       "1        Italy   0.0358\n",
       "2       France   0.0308\n",
       "3    Australia   0.0256\n",
       "4  New Zealand   0.0254\n",
       "5          USA   0.0252\n",
       "6           UK   0.0230\n",
       "7        Spain   0.0144\n",
       "8       Mexico   0.0130\n",
       "9      Finland   0.0074"
      ]
     },
     "execution_count": 14,
     "metadata": {},
     "output_type": "execute_result"
    }
   ],
   "source": [
    "# Calculate breakdown of data by country\n",
    "country_df = student_data['country'].value_counts(normalize=True).reset_index().rename(columns={'index': 'Country', 'country': 'Percent'})\n",
    "country_df"
   ]
  },
  {
   "cell_type": "code",
   "execution_count": 15,
   "metadata": {},
   "outputs": [
    {
     "data": {
      "image/png": "[encoded data removed]",
      "text/plain": [
       "<Figure size 432x288 with 1 Axes>"
      ]
     },
     "metadata": {
      "needs_background": "light"
     },
     "output_type": "display_data"
    }
   ],
   "source": [
    "ax = sns.barplot(x='Country', y='Percent', data=country_df)\n",
    "ax.set(title='Breakdown by Country')\n",
    "ax.yaxis.set_major_formatter(PercentFormatter(1.0))\n",
    "plt.xticks(rotation=90)\n",
    "plt.savefig('/Users/ankushkhullar/Desktop/TRIAD/figures/breakdown_country.png', dpi=600, bbox_inches=\"tight\")"
   ]
  },
  {
   "cell_type": "markdown",
   "metadata": {},
   "source": [
    "Pass rates by country range from 72.1% for Italy to 86.4% for Finland. Countries with the highest pass rates were Finland, Mexico and Australia and countries with the lowest pass rates were Italy, Spain, and France. While this seems to indicate that there is a relationship between where a student is from and whether he or she passes the test, the low correlations between pass and the dummy encoded country features indicates that there is a very weak relationship, if any.\n",
    "\n",
    "A chi-square test of independence was performed to determine if the differences in pass rates between countries are statistically significant. The chi-square statistic was 11.48 with a p-value of 0.2445. The high p-value indicates that the differences are not statistically significant at a confidence level of 95%. \n",
    "\n",
    "It may be surprising that a 14% difference in pass rates between students from Italy and students from Finland is not significant. The reason this is the case is because of the small sample sizes for those countries. Small sample sizes translate to high standard errors. Therefore, although the difference between pass rates may seem large, the high standard errors mean that they cannot be deemed significant. "
   ]
  },
  {
   "cell_type": "code",
   "execution_count": 16,
   "metadata": {},
   "outputs": [
    {
     "data": {
      "text/html": [
       "<div>\n",
       "<style scoped>\n",
       "    .dataframe tbody tr th:only-of-type {\n",
       "        vertical-align: middle;\n",
       "    }\n",
       "\n",
       "    .dataframe tbody tr th {\n",
       "        vertical-align: top;\n",
       "    }\n",
       "\n",
       "    .dataframe thead th {\n",
       "        text-align: right;\n",
       "    }\n",
       "</style>\n",
       "<table border=\"1\" class=\"dataframe\">\n",
       "  <thead>\n",
       "    <tr style=\"text-align: right;\">\n",
       "      <th></th>\n",
       "      <th>pass</th>\n",
       "    </tr>\n",
       "    <tr>\n",
       "      <th>country</th>\n",
       "      <th></th>\n",
       "    </tr>\n",
       "  </thead>\n",
       "  <tbody>\n",
       "    <tr>\n",
       "      <td>Finland</td>\n",
       "      <td>0.864865</td>\n",
       "    </tr>\n",
       "    <tr>\n",
       "      <td>Mexico</td>\n",
       "      <td>0.861538</td>\n",
       "    </tr>\n",
       "    <tr>\n",
       "      <td>Australia</td>\n",
       "      <td>0.835938</td>\n",
       "    </tr>\n",
       "    <tr>\n",
       "      <td>USA</td>\n",
       "      <td>0.793651</td>\n",
       "    </tr>\n",
       "    <tr>\n",
       "      <td>New Zealand</td>\n",
       "      <td>0.787402</td>\n",
       "    </tr>\n",
       "    <tr>\n",
       "      <td>Japan</td>\n",
       "      <td>0.780585</td>\n",
       "    </tr>\n",
       "    <tr>\n",
       "      <td>UK</td>\n",
       "      <td>0.773913</td>\n",
       "    </tr>\n",
       "    <tr>\n",
       "      <td>France</td>\n",
       "      <td>0.759740</td>\n",
       "    </tr>\n",
       "    <tr>\n",
       "      <td>Spain</td>\n",
       "      <td>0.736111</td>\n",
       "    </tr>\n",
       "    <tr>\n",
       "      <td>Italy</td>\n",
       "      <td>0.720670</td>\n",
       "    </tr>\n",
       "  </tbody>\n",
       "</table>\n",
       "</div>"
      ],
      "text/plain": [
       "                 pass\n",
       "country              \n",
       "Finland      0.864865\n",
       "Mexico       0.861538\n",
       "Australia    0.835938\n",
       "USA          0.793651\n",
       "New Zealand  0.787402\n",
       "Japan        0.780585\n",
       "UK           0.773913\n",
       "France       0.759740\n",
       "Spain        0.736111\n",
       "Italy        0.720670"
      ]
     },
     "execution_count": 16,
     "metadata": {},
     "output_type": "execute_result"
    }
   ],
   "source": [
    "# Calculate pass rates by country\n",
    "order = student_data[['country', 'pass']].groupby(['country']).mean().sort_values('pass', ascending=False)\n",
    "country_order = order.index\n",
    "order"
   ]
  },
  {
   "cell_type": "code",
   "execution_count": 17,
   "metadata": {},
   "outputs": [
    {
     "data": {
      "image/png": "[encoded data removed]",
      "text/plain": [
       "<Figure size 432x288 with 1 Axes>"
      ]
     },
     "metadata": {
      "needs_background": "light"
     },
     "output_type": "display_data"
    }
   ],
   "source": [
    "g = sns.barplot(x='country', y='pass', data=student_data, order=country_order)\n",
    "g.set(xlabel=\"Country\", ylabel='Pass Rate', title='Pass Rate by Country')\n",
    "g.yaxis.set_major_formatter(PercentFormatter(1.0))\n",
    "plt.xticks(rotation=90)\n",
    "plt.show()"
   ]
  },
  {
   "cell_type": "code",
   "execution_count": 18,
   "metadata": {},
   "outputs": [
    {
     "data": {
      "text/plain": [
       "(11.475812318722772, 0.2444979813527436, 9, array([[  28.0832,   99.9168],\n",
       "        [   8.1178,   28.8822],\n",
       "        [  33.7876,  120.2124],\n",
       "        [  39.2726,  139.7274],\n",
       "        [ 876.9418, 3120.0582],\n",
       "        [  14.261 ,   50.739 ],\n",
       "        [  27.8638,   99.1362],\n",
       "        [  15.7968,   56.2032],\n",
       "        [  25.231 ,   89.769 ],\n",
       "        [  27.6444,   98.3556]]))"
      ]
     },
     "execution_count": 18,
     "metadata": {},
     "output_type": "execute_result"
    }
   ],
   "source": [
    "# Chi-square test for pass rates across countries\n",
    "chi2_contingency(pd.crosstab(student_data['country'], student_data['pass']))"
   ]
  },
  {
   "cell_type": "markdown",
   "metadata": {},
   "source": [
    "### Language"
   ]
  },
  {
   "cell_type": "markdown",
   "metadata": {},
   "source": [
    "Given that Japan was the most represented country in the dataset, it is unsurprising that Japanese is the most prevalent language, followed by English and Italian."
   ]
  },
  {
   "cell_type": "code",
   "execution_count": 19,
   "metadata": {},
   "outputs": [
    {
     "data": {
      "text/html": [
       "<div>\n",
       "<style scoped>\n",
       "    .dataframe tbody tr th:only-of-type {\n",
       "        vertical-align: middle;\n",
       "    }\n",
       "\n",
       "    .dataframe tbody tr th {\n",
       "        vertical-align: top;\n",
       "    }\n",
       "\n",
       "    .dataframe thead th {\n",
       "        text-align: right;\n",
       "    }\n",
       "</style>\n",
       "<table border=\"1\" class=\"dataframe\">\n",
       "  <thead>\n",
       "    <tr style=\"text-align: right;\">\n",
       "      <th></th>\n",
       "      <th>Language</th>\n",
       "      <th>Percent</th>\n",
       "    </tr>\n",
       "  </thead>\n",
       "  <tbody>\n",
       "    <tr>\n",
       "      <td>0</td>\n",
       "      <td>Japanese</td>\n",
       "      <td>0.7994</td>\n",
       "    </tr>\n",
       "    <tr>\n",
       "      <td>1</td>\n",
       "      <td>English</td>\n",
       "      <td>0.0992</td>\n",
       "    </tr>\n",
       "    <tr>\n",
       "      <td>2</td>\n",
       "      <td>Italian</td>\n",
       "      <td>0.0358</td>\n",
       "    </tr>\n",
       "    <tr>\n",
       "      <td>3</td>\n",
       "      <td>French</td>\n",
       "      <td>0.0308</td>\n",
       "    </tr>\n",
       "    <tr>\n",
       "      <td>4</td>\n",
       "      <td>Spanish</td>\n",
       "      <td>0.0274</td>\n",
       "    </tr>\n",
       "    <tr>\n",
       "      <td>5</td>\n",
       "      <td>Finnish</td>\n",
       "      <td>0.0074</td>\n",
       "    </tr>\n",
       "  </tbody>\n",
       "</table>\n",
       "</div>"
      ],
      "text/plain": [
       "   Language  Percent\n",
       "0  Japanese   0.7994\n",
       "1   English   0.0992\n",
       "2   Italian   0.0358\n",
       "3    French   0.0308\n",
       "4   Spanish   0.0274\n",
       "5   Finnish   0.0074"
      ]
     },
     "execution_count": 19,
     "metadata": {},
     "output_type": "execute_result"
    }
   ],
   "source": [
    "# Calculate breakdown of data by language\n",
    "language_df = student_data['lang'].value_counts(normalize=True).reset_index().rename(columns={'index': 'Language', 'lang': 'Percent'})\n",
    "language_df"
   ]
  },
  {
   "cell_type": "code",
   "execution_count": 20,
   "metadata": {},
   "outputs": [
    {
     "data": {
      "image/png": "[encoded data removed]",
      "text/plain": [
       "<Figure size 432x288 with 1 Axes>"
      ]
     },
     "metadata": {
      "needs_background": "light"
     },
     "output_type": "display_data"
    }
   ],
   "source": [
    "ax = sns.barplot(x='Language', y='Percent', data=language_df)\n",
    "ax.set(title='Breakdown by Language')\n",
    "ax.yaxis.set_major_formatter(PercentFormatter(1.0))\n",
    "plt.show()"
   ]
  },
  {
   "cell_type": "markdown",
   "metadata": {},
   "source": [
    "Pass rates by language range from 72.1% for Italian to 86.5% for Finnish. Languages with the highest pass rates were Finnish, English and Spanish. Languages with the lowest pass rates were Italian, French, and Japanese. This is similar to the results of ranking countries by pass rate, which showed that students from Finland had the highest pass rate, followed by students from Mexico and Australia. However, an interesting thing to note is that the order of the top three countries does not exactly match the order of the top three languages. Whereas Mexico was the country with the second highest pass rate, Spanish, the langauge spoken in Mexico, had the third highest pass rate and whereas Australia was the country with the third highest pass rate, English, the language spoken in Austrlia, had the second highest pass rate. The reason the languages switched places is because Spanish and English are spoken in multiple countries. Namely, Spanish is also spoken in Spain, which had the second lowest pass rate. Aggregating the results for Mexico and Spain resulted in the swap between English and Spanish in the top three languages. \n",
    "\n",
    "While the range of pass rates seems to indicate that there is a relationship between the language a student speaks and whether he or she passes the test, the low correlations between pass and the dummy encoded language features indicates this is not the case. A chi-square test of independence for pass rates across languages provides corroboration. The chi-square statistic was 6.78 with a p-value of 0.2379. The high p-value indicates that the differences in pass rates across languages is not statistically significant at a confidence level of 95%. Again, this is due to the low representation of languages other than Japanese in the dataset.  "
   ]
  },
  {
   "cell_type": "code",
   "execution_count": 21,
   "metadata": {},
   "outputs": [
    {
     "data": {
      "text/html": [
       "<div>\n",
       "<style scoped>\n",
       "    .dataframe tbody tr th:only-of-type {\n",
       "        vertical-align: middle;\n",
       "    }\n",
       "\n",
       "    .dataframe tbody tr th {\n",
       "        vertical-align: top;\n",
       "    }\n",
       "\n",
       "    .dataframe thead th {\n",
       "        text-align: right;\n",
       "    }\n",
       "</style>\n",
       "<table border=\"1\" class=\"dataframe\">\n",
       "  <thead>\n",
       "    <tr style=\"text-align: right;\">\n",
       "      <th></th>\n",
       "      <th>lang</th>\n",
       "      <th>pass</th>\n",
       "    </tr>\n",
       "  </thead>\n",
       "  <tbody>\n",
       "    <tr>\n",
       "      <td>1</td>\n",
       "      <td>Finnish</td>\n",
       "      <td>0.864865</td>\n",
       "    </tr>\n",
       "    <tr>\n",
       "      <td>0</td>\n",
       "      <td>English</td>\n",
       "      <td>0.798387</td>\n",
       "    </tr>\n",
       "    <tr>\n",
       "      <td>5</td>\n",
       "      <td>Spanish</td>\n",
       "      <td>0.795620</td>\n",
       "    </tr>\n",
       "    <tr>\n",
       "      <td>4</td>\n",
       "      <td>Japanese</td>\n",
       "      <td>0.780585</td>\n",
       "    </tr>\n",
       "    <tr>\n",
       "      <td>2</td>\n",
       "      <td>French</td>\n",
       "      <td>0.759740</td>\n",
       "    </tr>\n",
       "    <tr>\n",
       "      <td>3</td>\n",
       "      <td>Italian</td>\n",
       "      <td>0.720670</td>\n",
       "    </tr>\n",
       "  </tbody>\n",
       "</table>\n",
       "</div>"
      ],
      "text/plain": [
       "       lang      pass\n",
       "1   Finnish  0.864865\n",
       "0   English  0.798387\n",
       "5   Spanish  0.795620\n",
       "4  Japanese  0.780585\n",
       "2    French  0.759740\n",
       "3   Italian  0.720670"
      ]
     },
     "execution_count": 21,
     "metadata": {},
     "output_type": "execute_result"
    }
   ],
   "source": [
    "# Calculate pass rates by language\n",
    "language_pass = student_data[['lang', 'pass']].groupby('lang', as_index=False).mean().sort_values(by='pass', ascending=False)\n",
    "language_pass"
   ]
  },
  {
   "cell_type": "code",
   "execution_count": 22,
   "metadata": {},
   "outputs": [
    {
     "data": {
      "image/png": "[encoded data removed]",
      "text/plain": [
       "<Figure size 432x288 with 1 Axes>"
      ]
     },
     "metadata": {
      "needs_background": "light"
     },
     "output_type": "display_data"
    }
   ],
   "source": [
    "order = student_data[['lang', 'pass']].groupby(['lang']).mean().sort_values('pass', ascending=False)\n",
    "lang_order = order.index\n",
    "g = sns.barplot(x='lang', y='pass', data=student_data, order=lang_order)\n",
    "g.set(xlabel=\"Language\", ylabel='Pass Rate', title='Pass Rate by Language')\n",
    "g.yaxis.set_major_formatter(PercentFormatter(1.0))\n",
    "plt.savefig('/Users/ankushkhullar/Desktop/TRIAD/figures/lang_pass_rate.png', dpi=600, bbox_inches=\"tight\")"
   ]
  },
  {
   "cell_type": "code",
   "execution_count": 23,
   "metadata": {},
   "outputs": [
    {
     "data": {
      "text/plain": [
       "(6.775836946277368, 0.23785249330855412, 5, array([[ 108.8224,  387.1776],\n",
       "        [   8.1178,   28.8822],\n",
       "        [  33.7876,  120.2124],\n",
       "        [  39.2726,  139.7274],\n",
       "        [ 876.9418, 3120.0582],\n",
       "        [  30.0578,  106.9422]]))"
      ]
     },
     "execution_count": 23,
     "metadata": {},
     "output_type": "execute_result"
    }
   ],
   "source": [
    "# Chi-square test for pass rates by language\n",
    "chi2_contingency(pd.crosstab(student_data['lang'], student_data['pass']))"
   ]
  },
  {
   "cell_type": "markdown",
   "metadata": {},
   "source": [
    "### Age"
   ]
  },
  {
   "cell_type": "markdown",
   "metadata": {},
   "source": [
    "The final piece of demographic information that can be used to predict whether a student passes the test is age. The distribution of age has positive skew with a median value of 24. "
   ]
  },
  {
   "cell_type": "code",
   "execution_count": 24,
   "metadata": {},
   "outputs": [
    {
     "data": {
      "text/plain": [
       "count    5000.000000\n",
       "mean       25.929400\n",
       "std         7.304265\n",
       "min        18.000000\n",
       "25%        20.000000\n",
       "50%        24.000000\n",
       "75%        30.000000\n",
       "max        50.000000\n",
       "Name: age, dtype: float64"
      ]
     },
     "execution_count": 24,
     "metadata": {},
     "output_type": "execute_result"
    }
   ],
   "source": [
    "# Distribution of age \n",
    "student_data['age'].describe()"
   ]
  },
  {
   "cell_type": "code",
   "execution_count": 25,
   "metadata": {},
   "outputs": [
    {
     "data": {
      "image/png": "[encoded data removed]",
      "text/plain": [
       "<Figure size 432x288 with 1 Axes>"
      ]
     },
     "metadata": {
      "needs_background": "light"
     },
     "output_type": "display_data"
    }
   ],
   "source": [
    "g = sns.distplot(student_data['age'], label='Skewness: %.2f'%(student_data['age'].skew()))\n",
    "g.set(xlabel='Age', title='Distribution of Age')\n",
    "plt.legend()\n",
    "plt.savefig('/Users/ankushkhullar/Desktop/TRIAD/figures/age_distribution.png', dpi=600, bbox_inches=\"tight\")"
   ]
  },
  {
   "cell_type": "markdown",
   "metadata": {},
   "source": [
    "The average age of students that pass the test is 25.1, while the average age of students that fail test is 26.2. A two-sample t-test was performed to determine if the average age of students that passed the test is significantly different from the average age students that failed. The t-statistic was 4.21 with a p-value of 2.64e-5. The low p-value indicates that the difference is significant at a 95% confidence level, providing evidence that age is positive correlated with pass rates.  "
   ]
  },
  {
   "cell_type": "code",
   "execution_count": 26,
   "metadata": {},
   "outputs": [
    {
     "data": {
      "text/plain": [
       "25.111212397447584"
      ]
     },
     "execution_count": 26,
     "metadata": {},
     "output_type": "execute_result"
    }
   ],
   "source": [
    "np.mean(student_data.loc[student_data['pass'] == 0, 'age'])"
   ]
  },
  {
   "cell_type": "code",
   "execution_count": 27,
   "metadata": {},
   "outputs": [
    {
     "data": {
      "text/plain": [
       "26.159364591339994"
      ]
     },
     "execution_count": 27,
     "metadata": {},
     "output_type": "execute_result"
    }
   ],
   "source": [
    "np.mean(student_data.loc[student_data['pass'] == 1, 'age'])"
   ]
  },
  {
   "cell_type": "code",
   "execution_count": 28,
   "metadata": {},
   "outputs": [
    {
     "data": {
      "image/png": "[encoded data removed]",
      "text/plain": [
       "<Figure size 432x216 with 2 Axes>"
      ]
     },
     "metadata": {
      "needs_background": "light"
     },
     "output_type": "display_data"
    }
   ],
   "source": [
    "g = sns.FacetGrid(student_data, col='pass')\n",
    "g.map(sns.distplot, 'age')\n",
    "plt.show()"
   ]
  },
  {
   "cell_type": "code",
   "execution_count": 29,
   "metadata": {},
   "outputs": [
    {
     "data": {
      "image/png": "[encoded data removed]",
      "text/plain": [
       "<Figure size 432x288 with 1 Axes>"
      ]
     },
     "metadata": {
      "needs_background": "light"
     },
     "output_type": "display_data"
    }
   ],
   "source": [
    "g = sns.boxplot(x='pass', y='age', data=student_data)\n",
    "g.set(xlabel='', ylabel='Age', title='Distribution of Age by Pass', xticklabels=['Fail', 'Pass'])\n",
    "plt.savefig('/Users/ankushkhullar/Desktop/TRIAD/figures/age_pass_rate.png', dpi=600, bbox_inches=\"tight\")"
   ]
  },
  {
   "cell_type": "code",
   "execution_count": 30,
   "metadata": {},
   "outputs": [
    {
     "data": {
      "text/plain": [
       "Ttest_indResult(statistic=4.206193837069958, pvalue=2.642534181097218e-05)"
      ]
     },
     "execution_count": 30,
     "metadata": {},
     "output_type": "execute_result"
    }
   ],
   "source": [
    "# T-test for average age by pass \n",
    "ttest_ind(student_data.loc[student_data['pass'] == 1, 'age'], \n",
    "          student_data.loc[student_data['pass'] == 0, 'age'])"
   ]
  },
  {
   "cell_type": "markdown",
   "metadata": {},
   "source": [
    "Binning age by quartile shows that 76% of students between 18 and 30 pass the test, 79% of students between 24 and 30 pass the test and 81% of students between the age of 30 and 50 pass.  A chi-square test was performed to determine if the difference in pass rates across age bands is statistically significant. The chi-square statistic was 14.00 with a p-value of 0.0029, indicating the differene in pass rates across age bands is statistically significant at a 95% confidence level. However, the test only indicates that the at least one of the age band pairs has a siginificant difference in pass rates. \n",
    "\n",
    "In order to determine which pairs have a siginificant difference, a post-hoc test was performed by running a chi-square test for each pair of age bands. Since tests were run repeatedly, the Bonferroni adjustment was used to correct for issues associated with multiple testing. Based on the results of the post-hoc analysis, there is a significant difference in pass rates between students under the age of 30 and students above the age of 30, with approximately 76.9% of those under 30 passing the test and 81.2% of those above 30 passing. "
   ]
  },
  {
   "cell_type": "code",
   "execution_count": 31,
   "metadata": {},
   "outputs": [],
   "source": [
    "# Split age into age bands \n",
    "student_data['age_band'] = pd.qcut(student_data['age'], q=4)"
   ]
  },
  {
   "cell_type": "code",
   "execution_count": 32,
   "metadata": {},
   "outputs": [
    {
     "data": {
      "text/html": [
       "<div>\n",
       "<style scoped>\n",
       "    .dataframe tbody tr th:only-of-type {\n",
       "        vertical-align: middle;\n",
       "    }\n",
       "\n",
       "    .dataframe tbody tr th {\n",
       "        vertical-align: top;\n",
       "    }\n",
       "\n",
       "    .dataframe thead th {\n",
       "        text-align: right;\n",
       "    }\n",
       "</style>\n",
       "<table border=\"1\" class=\"dataframe\">\n",
       "  <thead>\n",
       "    <tr style=\"text-align: right;\">\n",
       "      <th>pass</th>\n",
       "      <th>False</th>\n",
       "      <th>True</th>\n",
       "    </tr>\n",
       "    <tr>\n",
       "      <th>age_band</th>\n",
       "      <th></th>\n",
       "      <th></th>\n",
       "    </tr>\n",
       "  </thead>\n",
       "  <tbody>\n",
       "    <tr>\n",
       "      <td>(17.999, 20.0]</td>\n",
       "      <td>0.237226</td>\n",
       "      <td>0.762774</td>\n",
       "    </tr>\n",
       "    <tr>\n",
       "      <td>(20.0, 24.0]</td>\n",
       "      <td>0.239329</td>\n",
       "      <td>0.760671</td>\n",
       "    </tr>\n",
       "    <tr>\n",
       "      <td>(24.0, 30.0]</td>\n",
       "      <td>0.209664</td>\n",
       "      <td>0.790336</td>\n",
       "    </tr>\n",
       "    <tr>\n",
       "      <td>(30.0, 50.0]</td>\n",
       "      <td>0.185505</td>\n",
       "      <td>0.814495</td>\n",
       "    </tr>\n",
       "  </tbody>\n",
       "</table>\n",
       "</div>"
      ],
      "text/plain": [
       "pass               False     True \n",
       "age_band                          \n",
       "(17.999, 20.0]  0.237226  0.762774\n",
       "(20.0, 24.0]    0.239329  0.760671\n",
       "(24.0, 30.0]    0.209664  0.790336\n",
       "(30.0, 50.0]    0.185505  0.814495"
      ]
     },
     "execution_count": 32,
     "metadata": {},
     "output_type": "execute_result"
    }
   ],
   "source": [
    "student_data['age_band'] = pd.qcut(student_data['age'], q=4)\n",
    "pd.crosstab(student_data['age_band'], student_data['pass'], normalize='index')"
   ]
  },
  {
   "cell_type": "code",
   "execution_count": 33,
   "metadata": {},
   "outputs": [
    {
     "data": {
      "image/png": "[encoded data removed]",
      "text/plain": [
       "<Figure size 432x288 with 1 Axes>"
      ]
     },
     "metadata": {
      "needs_background": "light"
     },
     "output_type": "display_data"
    }
   ],
   "source": [
    "g = sns.barplot(x='age_band', y='pass', data=student_data)\n",
    "g.set(xlabel=\"Age Band\", ylabel='Pass Rate', title='Pass Rate by Age Band')\n",
    "g.yaxis.set_major_formatter(PercentFormatter(1.0))\n",
    "plt.savefig('/Users/ankushkhullar/Desktop/TRIAD/figures/age_band_pass_rate.png', dpi=600, bbox_inches=\"tight\")"
   ]
  },
  {
   "cell_type": "code",
   "execution_count": 34,
   "metadata": {},
   "outputs": [
    {
     "data": {
      "text/plain": [
       "(14.001114888193367, 0.0029036356134077585, 3, array([[ 300.578 , 1069.422 ],\n",
       "        [ 287.8528, 1024.1472],\n",
       "        [ 254.2846,  904.7154],\n",
       "        [ 254.2846,  904.7154]]))"
      ]
     },
     "execution_count": 34,
     "metadata": {},
     "output_type": "execute_result"
    }
   ],
   "source": [
    "# Chi-square test for pass rates across age bands \n",
    "chi2_contingency(pd.crosstab(student_data['age_band'], student_data['pass']))"
   ]
  },
  {
   "cell_type": "code",
   "execution_count": 35,
   "metadata": {},
   "outputs": [
    {
     "data": {
      "text/html": [
       "<div>\n",
       "<style scoped>\n",
       "    .dataframe tbody tr th:only-of-type {\n",
       "        vertical-align: middle;\n",
       "    }\n",
       "\n",
       "    .dataframe tbody tr th {\n",
       "        vertical-align: top;\n",
       "    }\n",
       "\n",
       "    .dataframe thead th {\n",
       "        text-align: right;\n",
       "    }\n",
       "</style>\n",
       "<table border=\"1\" class=\"dataframe\">\n",
       "  <thead>\n",
       "    <tr style=\"text-align: right;\">\n",
       "      <th></th>\n",
       "      <th>age_pair</th>\n",
       "      <th>p_val</th>\n",
       "      <th>significant</th>\n",
       "    </tr>\n",
       "  </thead>\n",
       "  <tbody>\n",
       "    <tr>\n",
       "      <td>0</td>\n",
       "      <td>((30.0, 50.0], (17.999, 20.0])</td>\n",
       "      <td>0.001847</td>\n",
       "      <td>True</td>\n",
       "    </tr>\n",
       "    <tr>\n",
       "      <td>1</td>\n",
       "      <td>((30.0, 50.0], (24.0, 30.0])</td>\n",
       "      <td>0.159008</td>\n",
       "      <td>False</td>\n",
       "    </tr>\n",
       "    <tr>\n",
       "      <td>2</td>\n",
       "      <td>((30.0, 50.0], (20.0, 24.0])</td>\n",
       "      <td>0.001346</td>\n",
       "      <td>True</td>\n",
       "    </tr>\n",
       "    <tr>\n",
       "      <td>3</td>\n",
       "      <td>((17.999, 20.0], (24.0, 30.0])</td>\n",
       "      <td>0.108024</td>\n",
       "      <td>False</td>\n",
       "    </tr>\n",
       "    <tr>\n",
       "      <td>4</td>\n",
       "      <td>((17.999, 20.0], (20.0, 24.0])</td>\n",
       "      <td>0.934283</td>\n",
       "      <td>False</td>\n",
       "    </tr>\n",
       "    <tr>\n",
       "      <td>5</td>\n",
       "      <td>((24.0, 30.0], (20.0, 24.0])</td>\n",
       "      <td>0.086724</td>\n",
       "      <td>False</td>\n",
       "    </tr>\n",
       "  </tbody>\n",
       "</table>\n",
       "</div>"
      ],
      "text/plain": [
       "                         age_pair     p_val  significant\n",
       "0  ((30.0, 50.0], (17.999, 20.0])  0.001847         True\n",
       "1    ((30.0, 50.0], (24.0, 30.0])  0.159008        False\n",
       "2    ((30.0, 50.0], (20.0, 24.0])  0.001346         True\n",
       "3  ((17.999, 20.0], (24.0, 30.0])  0.108024        False\n",
       "4  ((17.999, 20.0], (20.0, 24.0])  0.934283        False\n",
       "5    ((24.0, 30.0], (20.0, 24.0])  0.086724        False"
      ]
     },
     "execution_count": 35,
     "metadata": {},
     "output_type": "execute_result"
    }
   ],
   "source": [
    "all_combinations = list(combinations(student_data['age_band'].unique(), 2))\n",
    "p_vals = []\n",
    "for comb in all_combinations:\n",
    "    age_pair = student_data[(student_data['age_band'] == comb[0]) | (student_data['age_band'] == comb[1])]\n",
    "    chi2, p, dof, ex = chi2_contingency(pd.crosstab(age_pair['age_band'], age_pair['pass']))\n",
    "    p_vals.append(p)\n",
    "    \n",
    "significant = [x < 0.05/6 for x in p_vals]\n",
    "chi2_combinations = pd.DataFrame(\n",
    "    {'age_pair': all_combinations, \n",
    "     'p_val': p_vals, \n",
    "     'significant': significant})\n",
    "chi2_combinations"
   ]
  },
  {
   "cell_type": "code",
   "execution_count": 36,
   "metadata": {},
   "outputs": [
    {
     "data": {
      "text/plain": [
       "Ttest_indResult(statistic=0.10241309645486012, pvalue=0.9184328973525433)"
      ]
     },
     "execution_count": 36,
     "metadata": {},
     "output_type": "execute_result"
    }
   ],
   "source": [
    "ttest_ind(student_data.loc[student_data['sex'] == 1, 'age'], \n",
    "          student_data.loc[student_data['sex'] == 0, 'age'])"
   ]
  },
  {
   "cell_type": "markdown",
   "metadata": {},
   "source": [
    "### Summary \n",
    "\n",
    "Based on the analysis of the relationship between demographic factors and pass rate, the following conclusions can be made: \n",
    "\n",
    "1. **Sex** - males are more likely to pass the test than females; \n",
    "2. **Country** - no significant relationship between country and pass rate; \n",
    "3. **Language** - no significant relationship between language and pass rate; and,\n",
    "4. **Age** - postive relationship between age and pass rate; further analysis showed that students over the age of 30 are more likely to pass the exam than students under the age of 30. "
   ]
  },
  {
   "cell_type": "markdown",
   "metadata": {},
   "source": [
    "## Intervention Efficacy"
   ]
  },
  {
   "cell_type": "markdown",
   "metadata": {},
   "source": [
    "The dataset contains binary features, `dojo_class` and `test_prep`, representing interventions intended to increase the chances of a student passing the test. The overall distribution of these features shows that approximately 30% of students participated in the Dojo class and 21% participated in the test prep course.  \n",
    "\n",
    "The correlation between students who took the Dojo class and students that passed the test is 0.1637, while the correlation between students who took the test prep course and students that passed the test is only 0.0163. Based on this information, it appears that students who take the Dojo class are slightly more likely to pass the test. On the other hand, there does not seem to be any relationship between students who took the test prep course and whether they passed the test."
   ]
  },
  {
   "cell_type": "code",
   "execution_count": 37,
   "metadata": {},
   "outputs": [
    {
     "data": {
      "text/plain": [
       "False    0.6956\n",
       "True     0.3044\n",
       "Name: dojo_class, dtype: float64"
      ]
     },
     "execution_count": 37,
     "metadata": {},
     "output_type": "execute_result"
    }
   ],
   "source": [
    "# Calculate distributions of students who took the classes \n",
    "student_data['dojo_class'].value_counts(normalize=True)"
   ]
  },
  {
   "cell_type": "code",
   "execution_count": 38,
   "metadata": {},
   "outputs": [
    {
     "data": {
      "text/plain": [
       "False    0.7906\n",
       "True     0.2094\n",
       "Name: test_prep, dtype: float64"
      ]
     },
     "execution_count": 38,
     "metadata": {},
     "output_type": "execute_result"
    }
   ],
   "source": [
    "student_data['test_prep'].value_counts(normalize=True)"
   ]
  },
  {
   "cell_type": "code",
   "execution_count": 39,
   "metadata": {},
   "outputs": [
    {
     "data": {
      "text/plain": [
       "dojo_class    0.162713\n",
       "test_prep     0.016286\n",
       "pass          1.000000\n",
       "Name: pass, dtype: float64"
      ]
     },
     "execution_count": 39,
     "metadata": {},
     "output_type": "execute_result"
    }
   ],
   "source": [
    "student_data[['dojo_class', 'test_prep', 'pass']].corr()['pass']"
   ]
  },
  {
   "cell_type": "markdown",
   "metadata": {},
   "source": [
    "### Dojo Class"
   ]
  },
  {
   "cell_type": "markdown",
   "metadata": {},
   "source": [
    "Approximately 88% of students who took the Dojo class passed the test, while only 74% of students who did not take the Dojo class passed. A chi-square test examining the relationship between `dojo_class` and `pass` resulted in a chi-square statistic of 131.52 with a p-value of 1.90e-30. The low p-value indicates that the difference in pass rates between students who take the Dojo class and students who do not take the Dojo class is statistically significant at a 95% confidence level. "
   ]
  },
  {
   "cell_type": "code",
   "execution_count": 40,
   "metadata": {},
   "outputs": [
    {
     "data": {
      "text/html": [
       "<div>\n",
       "<style scoped>\n",
       "    .dataframe tbody tr th:only-of-type {\n",
       "        vertical-align: middle;\n",
       "    }\n",
       "\n",
       "    .dataframe tbody tr th {\n",
       "        vertical-align: top;\n",
       "    }\n",
       "\n",
       "    .dataframe thead th {\n",
       "        text-align: right;\n",
       "    }\n",
       "</style>\n",
       "<table border=\"1\" class=\"dataframe\">\n",
       "  <thead>\n",
       "    <tr style=\"text-align: right;\">\n",
       "      <th>pass</th>\n",
       "      <th>False</th>\n",
       "      <th>True</th>\n",
       "    </tr>\n",
       "    <tr>\n",
       "      <th>dojo_class</th>\n",
       "      <th></th>\n",
       "      <th></th>\n",
       "    </tr>\n",
       "  </thead>\n",
       "  <tbody>\n",
       "    <tr>\n",
       "      <td>False</td>\n",
       "      <td>0.263945</td>\n",
       "      <td>0.736055</td>\n",
       "    </tr>\n",
       "    <tr>\n",
       "      <td>True</td>\n",
       "      <td>0.117608</td>\n",
       "      <td>0.882392</td>\n",
       "    </tr>\n",
       "  </tbody>\n",
       "</table>\n",
       "</div>"
      ],
      "text/plain": [
       "pass           False     True \n",
       "dojo_class                    \n",
       "False       0.263945  0.736055\n",
       "True        0.117608  0.882392"
      ]
     },
     "execution_count": 40,
     "metadata": {},
     "output_type": "execute_result"
    }
   ],
   "source": [
    "# Calculate pass rates for students who took the Dojo class\n",
    "pd.crosstab(student_data['dojo_class'], student_data['pass'], normalize='index')"
   ]
  },
  {
   "cell_type": "code",
   "execution_count": 41,
   "metadata": {},
   "outputs": [
    {
     "data": {
      "text/plain": [
       "<matplotlib.axes._subplots.AxesSubplot at 0x124a4ff10>"
      ]
     },
     "execution_count": 41,
     "metadata": {},
     "output_type": "execute_result"
    },
    {
     "data": {
      "image/png": "[encoded data removed]",
      "text/plain": [
       "<Figure size 432x288 with 1 Axes>"
      ]
     },
     "metadata": {
      "needs_background": "light"
     },
     "output_type": "display_data"
    }
   ],
   "source": [
    "sns.barplot(x='dojo_class', y='pass', data=student_data)"
   ]
  },
  {
   "cell_type": "code",
   "execution_count": 42,
   "metadata": {},
   "outputs": [
    {
     "data": {
      "text/plain": [
       "(131.52428465795086, 1.9013412729235812e-30, 1, array([[ 763.0732, 2714.9268],\n",
       "        [ 333.9268, 1188.0732]]))"
      ]
     },
     "execution_count": 42,
     "metadata": {},
     "output_type": "execute_result"
    }
   ],
   "source": [
    "# Chi-square test for pass rates between dojo_class\n",
    "chi2_contingency(pd.crosstab(student_data['dojo_class'], student_data['pass']))"
   ]
  },
  {
   "cell_type": "markdown",
   "metadata": {},
   "source": [
    "As it was determined in the previous section that sex and age are related to pass rate, we must ensure that the effect from `dojo_class` are independent of the effects from the demographic features. That is, we must ensure that the higher pass rate for students who took the class is not because more males take the class than females or because students who take the classs are, on average, older than students who do not take the class. \n",
    "\n",
    "The distribution of males and females who took the Dojo class is representative of the sample as a whole. That is, appriximately 75% of the students who took the class are male and approximately 75% of students who did not take the class are also male. Furthermore, a two sample t-test examining the relationship between the `age` and `dojo_class` resulted in a t-statistic of 1.00 with p-value of 0.3158, indicating that there is not a statistically significant difference in the average age of students who took the class and students who did not take the class. Therefore, we can conclude that taking the Dojo class increases the chances of passing the test. "
   ]
  },
  {
   "cell_type": "code",
   "execution_count": 43,
   "metadata": {},
   "outputs": [
    {
     "data": {
      "text/html": [
       "<div>\n",
       "<style scoped>\n",
       "    .dataframe tbody tr th:only-of-type {\n",
       "        vertical-align: middle;\n",
       "    }\n",
       "\n",
       "    .dataframe tbody tr th {\n",
       "        vertical-align: top;\n",
       "    }\n",
       "\n",
       "    .dataframe thead th {\n",
       "        text-align: right;\n",
       "    }\n",
       "</style>\n",
       "<table border=\"1\" class=\"dataframe\">\n",
       "  <thead>\n",
       "    <tr style=\"text-align: right;\">\n",
       "      <th>sex</th>\n",
       "      <th>0</th>\n",
       "      <th>1</th>\n",
       "    </tr>\n",
       "    <tr>\n",
       "      <th>dojo_class</th>\n",
       "      <th></th>\n",
       "      <th></th>\n",
       "    </tr>\n",
       "  </thead>\n",
       "  <tbody>\n",
       "    <tr>\n",
       "      <td>False</td>\n",
       "      <td>0.255319</td>\n",
       "      <td>0.744681</td>\n",
       "    </tr>\n",
       "    <tr>\n",
       "      <td>True</td>\n",
       "      <td>0.245072</td>\n",
       "      <td>0.754928</td>\n",
       "    </tr>\n",
       "  </tbody>\n",
       "</table>\n",
       "</div>"
      ],
      "text/plain": [
       "sex                0         1\n",
       "dojo_class                    \n",
       "False       0.255319  0.744681\n",
       "True        0.245072  0.754928"
      ]
     },
     "execution_count": 43,
     "metadata": {},
     "output_type": "execute_result"
    }
   ],
   "source": [
    "pd.crosstab(student_data['dojo_class'], student_data['sex'], normalize='index')"
   ]
  },
  {
   "cell_type": "code",
   "execution_count": 44,
   "metadata": {},
   "outputs": [
    {
     "data": {
      "text/plain": [
       "(0.5363418007128696, 0.4639527695685288, 1, array([[ 877.1516, 2600.8484],\n",
       "        [ 383.8484, 1138.1516]]))"
      ]
     },
     "execution_count": 44,
     "metadata": {},
     "output_type": "execute_result"
    }
   ],
   "source": [
    "chi2_contingency(pd.crosstab(student_data['dojo_class'], student_data['sex']))"
   ]
  },
  {
   "cell_type": "code",
   "execution_count": 45,
   "metadata": {},
   "outputs": [
    {
     "data": {
      "text/plain": [
       "Ttest_indResult(statistic=1.00332079688192, pvalue=0.31575467656013273)"
      ]
     },
     "execution_count": 45,
     "metadata": {},
     "output_type": "execute_result"
    }
   ],
   "source": [
    "ttest_ind(student_data.loc[student_data['dojo_class'] == 1, 'age'], \n",
    "          student_data.loc[student_data['dojo_class'] == 0, 'age'])"
   ]
  },
  {
   "cell_type": "markdown",
   "metadata": {},
   "source": [
    "### Test Prep"
   ]
  },
  {
   "cell_type": "markdown",
   "metadata": {},
   "source": [
    "Approximately 79% of students who took the test prep class passed the test and 78% of students who did not take the test prep class passed. A chi-square test examining the relationship between `test_prep` and `pass` resulted in a chi-square statistic of 1.23 with a p-value of 0.2672. The p-value indicates that the difference in pass rates between students who take the test prep class and students who do not take the test prep class is not statistically significant at a 95% confidence level. This is in line with the very low correlation between students who took the test prep course and students that passed the tes. Therefore, we can conclude that the test prep course does not increase the likelihood of a student passing the test. "
   ]
  },
  {
   "cell_type": "code",
   "execution_count": 46,
   "metadata": {},
   "outputs": [
    {
     "data": {
      "text/html": [
       "<div>\n",
       "<style scoped>\n",
       "    .dataframe tbody tr th:only-of-type {\n",
       "        vertical-align: middle;\n",
       "    }\n",
       "\n",
       "    .dataframe tbody tr th {\n",
       "        vertical-align: top;\n",
       "    }\n",
       "\n",
       "    .dataframe thead th {\n",
       "        text-align: right;\n",
       "    }\n",
       "</style>\n",
       "<table border=\"1\" class=\"dataframe\">\n",
       "  <thead>\n",
       "    <tr style=\"text-align: right;\">\n",
       "      <th>pass</th>\n",
       "      <th>False</th>\n",
       "      <th>True</th>\n",
       "    </tr>\n",
       "    <tr>\n",
       "      <th>test_prep</th>\n",
       "      <th></th>\n",
       "      <th></th>\n",
       "    </tr>\n",
       "  </thead>\n",
       "  <tbody>\n",
       "    <tr>\n",
       "      <td>False</td>\n",
       "      <td>0.222869</td>\n",
       "      <td>0.777131</td>\n",
       "    </tr>\n",
       "    <tr>\n",
       "      <td>True</td>\n",
       "      <td>0.206304</td>\n",
       "      <td>0.793696</td>\n",
       "    </tr>\n",
       "  </tbody>\n",
       "</table>\n",
       "</div>"
      ],
      "text/plain": [
       "pass          False     True \n",
       "test_prep                    \n",
       "False      0.222869  0.777131\n",
       "True       0.206304  0.793696"
      ]
     },
     "execution_count": 46,
     "metadata": {},
     "output_type": "execute_result"
    }
   ],
   "source": [
    "# Calculate pass rates for students who took the test prep class \n",
    "pd.crosstab(student_data['test_prep'], student_data['pass'], normalize='index')"
   ]
  },
  {
   "cell_type": "code",
   "execution_count": 47,
   "metadata": {},
   "outputs": [
    {
     "data": {
      "text/plain": [
       "<matplotlib.axes._subplots.AxesSubplot at 0x124d43110>"
      ]
     },
     "execution_count": 47,
     "metadata": {},
     "output_type": "execute_result"
    },
    {
     "data": {
      "image/png": "[encoded data removed]",
      "text/plain": [
       "<Figure size 432x288 with 1 Axes>"
      ]
     },
     "metadata": {
      "needs_background": "light"
     },
     "output_type": "display_data"
    }
   ],
   "source": [
    "sns.barplot(x='test_prep', y='pass', data=student_data)"
   ]
  },
  {
   "cell_type": "code",
   "execution_count": 48,
   "metadata": {},
   "outputs": [
    {
     "data": {
      "text/plain": [
       "(1.2312757314759601, 0.2671590820740462, 1, array([[ 867.2882, 3085.7118],\n",
       "        [ 229.7118,  817.2882]]))"
      ]
     },
     "execution_count": 48,
     "metadata": {},
     "output_type": "execute_result"
    }
   ],
   "source": [
    "# Chi-square test for pass rates between dojo_class\n",
    "chi2_contingency(pd.crosstab(student_data['test_prep'], student_data['pass']))"
   ]
  },
  {
   "cell_type": "markdown",
   "metadata": {},
   "source": [
    "### Conclusion\n",
    "\n",
    "Based on the analysis of interventions, the following can be concluded: \n",
    "    \n",
    "1. Students who take the Dojo class are more likely to pass the test; and,\n",
    "2. There is no relationship between students who take the test prep course and students who pass the test. "
   ]
  },
  {
   "cell_type": "markdown",
   "metadata": {},
   "source": [
    "## Further Analysis"
   ]
  },
  {
   "cell_type": "markdown",
   "metadata": {},
   "source": [
    "One final variable that is likely to be related to whether a student passes the test is hours studied. \n",
    "\n",
    "### Hours Studied \n",
    "\n",
    "One difficulty with hours studied is that appriximately 40% of the 5,000 observations are missing values for the `hours_studied`. Nonetheless, we can use the data that is avaialble to determine if there is a relationship between hours studied and whether a student passes the test. \n",
    "\n",
    "The distribution of hours studied that are avaialble in the dataset has positive skew with a median value of 4.38 hours. The median number of hours studied by students who pass the test is 4.6 hours, while the median of hours studied by students who fail the test is 3.8 hours. This indicates that hours studied has a positive relationship with pass. \n",
    "\n",
    "A two-sample t-test was performed to determine if the average age of students that passed the test is significantly different from the average age students that failed. The t-statistic was 5.77 with a p-value of 2.34e-9. The low p-value indicates that the difference is significant at a 95% confidence level, providing evidence that hours studied is positive correlated with whether a student passes the test. "
   ]
  },
  {
   "cell_type": "code",
   "execution_count": 49,
   "metadata": {},
   "outputs": [
    {
     "data": {
      "text/plain": [
       "count    2990.000000\n",
       "mean        5.019735\n",
       "std         3.236989\n",
       "min         0.054288\n",
       "25%         2.619695\n",
       "50%         4.382517\n",
       "75%         6.609386\n",
       "max        28.825974\n",
       "Name: hours_studied, dtype: float64"
      ]
     },
     "execution_count": 49,
     "metadata": {},
     "output_type": "execute_result"
    }
   ],
   "source": [
    "# Examine distribution of hours_studied\n",
    "student_data['hours_studied'].describe()"
   ]
  },
  {
   "cell_type": "code",
   "execution_count": 50,
   "metadata": {},
   "outputs": [],
   "source": [
    "student_clean = student_data.drop(['first', 'last', 'notes'], axis=1)\n",
    "student_clean = student_clean.dropna().reset_index(drop=True)"
   ]
  },
  {
   "cell_type": "code",
   "execution_count": 51,
   "metadata": {},
   "outputs": [
    {
     "data": {
      "text/html": [
       "<div>\n",
       "<style scoped>\n",
       "    .dataframe tbody tr th:only-of-type {\n",
       "        vertical-align: middle;\n",
       "    }\n",
       "\n",
       "    .dataframe tbody tr th {\n",
       "        vertical-align: top;\n",
       "    }\n",
       "\n",
       "    .dataframe thead th {\n",
       "        text-align: right;\n",
       "    }\n",
       "</style>\n",
       "<table border=\"1\" class=\"dataframe\">\n",
       "  <thead>\n",
       "    <tr style=\"text-align: right;\">\n",
       "      <th></th>\n",
       "      <th>hours_studied</th>\n",
       "      <th>age</th>\n",
       "      <th>pass</th>\n",
       "    </tr>\n",
       "  </thead>\n",
       "  <tbody>\n",
       "    <tr>\n",
       "      <td>hours_studied</td>\n",
       "      <td>1.000000</td>\n",
       "      <td>0.024516</td>\n",
       "      <td>0.105118</td>\n",
       "    </tr>\n",
       "    <tr>\n",
       "      <td>age</td>\n",
       "      <td>0.024516</td>\n",
       "      <td>1.000000</td>\n",
       "      <td>0.066576</td>\n",
       "    </tr>\n",
       "    <tr>\n",
       "      <td>pass</td>\n",
       "      <td>0.105118</td>\n",
       "      <td>0.066576</td>\n",
       "      <td>1.000000</td>\n",
       "    </tr>\n",
       "  </tbody>\n",
       "</table>\n",
       "</div>"
      ],
      "text/plain": [
       "               hours_studied       age      pass\n",
       "hours_studied       1.000000  0.024516  0.105118\n",
       "age                 0.024516  1.000000  0.066576\n",
       "pass                0.105118  0.066576  1.000000"
      ]
     },
     "execution_count": 51,
     "metadata": {},
     "output_type": "execute_result"
    }
   ],
   "source": [
    "student_clean[['hours_studied', 'age', 'pass']].corr()"
   ]
  },
  {
   "cell_type": "code",
   "execution_count": 52,
   "metadata": {},
   "outputs": [
    {
     "data": {
      "image/png": "[encoded data removed]",
      "text/plain": [
       "<Figure size 432x288 with 1 Axes>"
      ]
     },
     "metadata": {
      "needs_background": "light"
     },
     "output_type": "display_data"
    }
   ],
   "source": [
    "g = sns.distplot(student_clean['hours_studied'], label='Skewness: %.2f'%(student_data['hours_studied'].skew()))\n",
    "g.set(xlabel='Hours Studied', title='Distribution of Hours Studied')\n",
    "plt.legend()\n",
    "plt.savefig('/Users/ankushkhullar/Desktop/TRIAD/figures/hours_studied_distribution.png', dpi=600, bbox_inches=\"tight\")"
   ]
  },
  {
   "cell_type": "code",
   "execution_count": 53,
   "metadata": {},
   "outputs": [
    {
     "data": {
      "text/plain": [
       "Ttest_indResult(statistic=5.778042810213596, pvalue=8.336067039817048e-09)"
      ]
     },
     "execution_count": 53,
     "metadata": {},
     "output_type": "execute_result"
    }
   ],
   "source": [
    "# T-test for average age of students that passed/failed the test\n",
    "ttest_ind(student_clean.loc[student_clean['pass'] == 1, 'hours_studied'], \n",
    "          student_clean.loc[student_clean['pass'] == 0, 'hours_studied'])"
   ]
  },
  {
   "cell_type": "markdown",
   "metadata": {},
   "source": [
    "### Logistic Regression"
   ]
  },
  {
   "cell_type": "markdown",
   "metadata": {},
   "source": [
    "The previous sections provided evidence that sex, age, dojo_class and hours_studied are related to whether a student passes the test, but does not assess the magnitude or importance of these features. One way to do that is to perform a logistic regression and analyse the coefficients for each feature. "
   ]
  },
  {
   "cell_type": "code",
   "execution_count": 54,
   "metadata": {},
   "outputs": [],
   "source": [
    "# Logistic regression using demographic features\n",
    "student_clean[['pass', 'dojo_class']] = student_clean[['pass', 'dojo_class']].astype(int)\n",
    "X = student_clean[['sex', 'age', 'dojo_class']]\n",
    "\n",
    "X = sm.add_constant(X)\n",
    "y = student_clean['pass']"
   ]
  },
  {
   "cell_type": "code",
   "execution_count": 55,
   "metadata": {},
   "outputs": [
    {
     "name": "stdout",
     "output_type": "stream",
     "text": [
      "Optimization terminated successfully.\n",
      "         Current function value: 0.489279\n",
      "         Iterations 6\n",
      "                         Results: Logit\n",
      "=================================================================\n",
      "Model:              Logit            Pseudo R-squared: 0.066     \n",
      "Dependent Variable: pass             AIC:              2933.8883 \n",
      "Date:               2020-05-07 15:34 BIC:              2957.9004 \n",
      "No. Observations:   2990             Log-Likelihood:   -1462.9   \n",
      "Df Model:           3                LL-Null:          -1566.8   \n",
      "Df Residuals:       2986             LLR p-value:      9.0654e-45\n",
      "Converged:          1.0000           Scale:            1.0000    \n",
      "No. Iterations:     6.0000                                       \n",
      "------------------------------------------------------------------\n",
      "                Coef.   Std.Err.     z     P>|z|    [0.025  0.975]\n",
      "------------------------------------------------------------------\n",
      "const          -0.2835    0.1910  -1.4844  0.1377  -0.6579  0.0908\n",
      "sex             0.9286    0.0967   9.6070  0.0000   0.7392  1.1181\n",
      "age             0.0255    0.0068   3.7734  0.0002   0.0123  0.0388\n",
      "dojo_class      1.1126    0.1200   9.2708  0.0000   0.8774  1.3478\n",
      "=================================================================\n",
      "\n"
     ]
    }
   ],
   "source": [
    "logreg = sm.Logit(y,X)\n",
    "result = logreg.fit()\n",
    "print(result.summary2())"
   ]
  },
  {
   "cell_type": "code",
   "execution_count": 56,
   "metadata": {},
   "outputs": [
    {
     "name": "stdout",
     "output_type": "stream",
     "text": [
      "Male odds: 2.53\n",
      "Age odds: 1.03\n",
      "Dojo class odds: 3.04\n"
     ]
    }
   ],
   "source": [
    "print('Male odds: {}'.format(round(np.exp(result.params[1]), 2)))\n",
    "print('Age odds: {}'.format(round(np.exp(result.params[2]), 2)))\n",
    "print('Dojo class odds: {}'.format(round(np.exp(result.params[3]), 2)))"
   ]
  },
  {
   "cell_type": "markdown",
   "metadata": {},
   "source": [
    "The results of the logistic regression reveal the following: \n",
    "\n",
    "1.\tSex - The odds that a male will pass the test are 2.53 times higher than the odds that a female will pass;\n",
    "2.\tAge - A one-year increase in age increases the odds of passing the exam by 1.03; \n",
    "3.\tDojo class - The odds that a student who takes the Dojo class will pass the test are 3.04 times higher than a student who does not take the Dojo class. \n",
    "\n",
    "Based on these results, Dojo class had the highest impact on whether a student passes the test, followed by sex and age. It is important to note that the relative importances are based on the logistic regression analysis, including any assumptions made by a logistic regression model (e.g., linear relationship between predictors and log odds of the response). Therefore, the relative importances can be different if using a different model.  "
   ]
  }
 ],
 "metadata": {
  "kernelspec": {
   "display_name": "Python 3",
   "language": "python",
   "name": "python3"
  },
  "language_info": {
   "codemirror_mode": {
    "name": "ipython",
    "version": 3
   },
   "file_extension": ".py",
   "mimetype": "text/x-python",
   "name": "python",
   "nbconvert_exporter": "python",
   "pygments_lexer": "ipython3",
   "version": "3.7.4"
  }
 },
 "nbformat": 4,
 "nbformat_minor": 4
}
